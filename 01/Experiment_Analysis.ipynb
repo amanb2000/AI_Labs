{
 "cells": [
  {
   "cell_type": "markdown",
   "id": "emotional-adelaide",
   "metadata": {},
   "source": [
    "# Experimental Analysis\n",
    "\n",
    "- [ ] Import dataframe.\n",
    "- [ ] Function to tally results.\n",
    "    - [ ] X: p_occ; Y: number of satisfiable runs (for given N).\n",
    "    - [ ] X: p_occ; Y: average nodes generated (for given N).\n",
    "- [ ] Function to plot tallied results.\n",
    "- [ ] Make sure plots make sense."
   ]
  },
  {
   "cell_type": "code",
   "execution_count": 143,
   "id": "ranging-budget",
   "metadata": {},
   "outputs": [],
   "source": [
    "# IMPORT BOX #\n",
    "import numpy as np\n",
    "import matplotlib.pyplot as plt\n",
    "import pandas as pd"
   ]
  },
  {
   "cell_type": "code",
   "execution_count": 144,
   "id": "oriented-recording",
   "metadata": {},
   "outputs": [
    {
     "data": {
      "text/html": [
       "<div>\n",
       "<style scoped>\n",
       "    .dataframe tbody tr th:only-of-type {\n",
       "        vertical-align: middle;\n",
       "    }\n",
       "\n",
       "    .dataframe tbody tr th {\n",
       "        vertical-align: top;\n",
       "    }\n",
       "\n",
       "    .dataframe thead th {\n",
       "        text-align: right;\n",
       "    }\n",
       "</style>\n",
       "<table border=\"1\" class=\"dataframe\">\n",
       "  <thead>\n",
       "    <tr style=\"text-align: right;\">\n",
       "      <th></th>\n",
       "      <th>run</th>\n",
       "      <th>N</th>\n",
       "      <th>p_occ</th>\n",
       "      <th>nodes_generated</th>\n",
       "      <th>SAT</th>\n",
       "    </tr>\n",
       "  </thead>\n",
       "  <tbody>\n",
       "    <tr>\n",
       "      <th>0</th>\n",
       "      <td>0.0</td>\n",
       "      <td>20.0</td>\n",
       "      <td>0.1</td>\n",
       "      <td>10.0</td>\n",
       "      <td>1.0</td>\n",
       "    </tr>\n",
       "    <tr>\n",
       "      <th>1</th>\n",
       "      <td>1.0</td>\n",
       "      <td>20.0</td>\n",
       "      <td>0.1</td>\n",
       "      <td>43.0</td>\n",
       "      <td>1.0</td>\n",
       "    </tr>\n",
       "    <tr>\n",
       "      <th>2</th>\n",
       "      <td>2.0</td>\n",
       "      <td>20.0</td>\n",
       "      <td>0.1</td>\n",
       "      <td>21.0</td>\n",
       "      <td>1.0</td>\n",
       "    </tr>\n",
       "    <tr>\n",
       "      <th>3</th>\n",
       "      <td>3.0</td>\n",
       "      <td>20.0</td>\n",
       "      <td>0.1</td>\n",
       "      <td>3.0</td>\n",
       "      <td>1.0</td>\n",
       "    </tr>\n",
       "    <tr>\n",
       "      <th>4</th>\n",
       "      <td>4.0</td>\n",
       "      <td>20.0</td>\n",
       "      <td>0.1</td>\n",
       "      <td>22.0</td>\n",
       "      <td>1.0</td>\n",
       "    </tr>\n",
       "    <tr>\n",
       "      <th>...</th>\n",
       "      <td>...</td>\n",
       "      <td>...</td>\n",
       "      <td>...</td>\n",
       "      <td>...</td>\n",
       "      <td>...</td>\n",
       "    </tr>\n",
       "    <tr>\n",
       "      <th>5095</th>\n",
       "      <td>5095.0</td>\n",
       "      <td>500.0</td>\n",
       "      <td>0.9</td>\n",
       "      <td>0.0</td>\n",
       "      <td>0.0</td>\n",
       "    </tr>\n",
       "    <tr>\n",
       "      <th>5096</th>\n",
       "      <td>5096.0</td>\n",
       "      <td>500.0</td>\n",
       "      <td>0.9</td>\n",
       "      <td>0.0</td>\n",
       "      <td>0.0</td>\n",
       "    </tr>\n",
       "    <tr>\n",
       "      <th>5097</th>\n",
       "      <td>5097.0</td>\n",
       "      <td>500.0</td>\n",
       "      <td>0.9</td>\n",
       "      <td>0.0</td>\n",
       "      <td>0.0</td>\n",
       "    </tr>\n",
       "    <tr>\n",
       "      <th>5098</th>\n",
       "      <td>5098.0</td>\n",
       "      <td>500.0</td>\n",
       "      <td>0.9</td>\n",
       "      <td>0.0</td>\n",
       "      <td>0.0</td>\n",
       "    </tr>\n",
       "    <tr>\n",
       "      <th>5099</th>\n",
       "      <td>5099.0</td>\n",
       "      <td>500.0</td>\n",
       "      <td>0.9</td>\n",
       "      <td>0.0</td>\n",
       "      <td>0.0</td>\n",
       "    </tr>\n",
       "  </tbody>\n",
       "</table>\n",
       "<p>5100 rows × 5 columns</p>\n",
       "</div>"
      ],
      "text/plain": [
       "         run      N  p_occ  nodes_generated  SAT\n",
       "0        0.0   20.0    0.1             10.0  1.0\n",
       "1        1.0   20.0    0.1             43.0  1.0\n",
       "2        2.0   20.0    0.1             21.0  1.0\n",
       "3        3.0   20.0    0.1              3.0  1.0\n",
       "4        4.0   20.0    0.1             22.0  1.0\n",
       "...      ...    ...    ...              ...  ...\n",
       "5095  5095.0  500.0    0.9              0.0  0.0\n",
       "5096  5096.0  500.0    0.9              0.0  0.0\n",
       "5097  5097.0  500.0    0.9              0.0  0.0\n",
       "5098  5098.0  500.0    0.9              0.0  0.0\n",
       "5099  5099.0  500.0    0.9              0.0  0.0\n",
       "\n",
       "[5100 rows x 5 columns]"
      ]
     },
     "execution_count": 144,
     "metadata": {},
     "output_type": "execute_result"
    }
   ],
   "source": [
    "# Data Import Box\n",
    "df = pd.read_csv('experiment_results.csv')\n",
    "df = df.drop(columns=['Unnamed: 0'])\n",
    "df"
   ]
  },
  {
   "cell_type": "code",
   "execution_count": 145,
   "id": "opposite-finance",
   "metadata": {},
   "outputs": [
    {
     "name": "stdout",
     "output_type": "stream",
     "text": [
      "TESTING TO SEE IF EACH P-OCC IS REPRESENTED\n",
      "p: 0.1; num: 300\n",
      "p: 0.15; num: 300\n",
      "p: 0.2; num: 300\n",
      "p: 0.25; num: 300\n",
      "p: 0.3; num: 300\n",
      "p: 0.35; num: 300\n",
      "p: 0.4; num: 300\n",
      "p: 0.45; num: 300\n",
      "p: 0.5; num: 300\n",
      "p: 0.55; num: 300\n",
      "p: 0.6; num: 300\n",
      "p: 0.65; num: 300\n",
      "p: 0.7; num: 300\n",
      "p: 0.75; num: 300\n",
      "p: 0.8; num: 300\n",
      "p: 0.85; num: 300\n",
      "p: 0.9; num: 300\n"
     ]
    }
   ],
   "source": [
    "print(\"TESTING TO SEE IF EACH P-OCC IS REPRESENTED\")\n",
    "p_occs = np.linspace(0.1, 0.9, 17)\n",
    "for p in p_occs:\n",
    "    print(\"p: {}; num: {}\".format(round(p, 2), len(df[df['p_occ'] == round(p,2)])))"
   ]
  },
  {
   "cell_type": "code",
   "execution_count": 146,
   "id": "empty-magnet",
   "metadata": {},
   "outputs": [
    {
     "name": "stdout",
     "output_type": "stream",
     "text": [
      "TESTING TO SEE IF EACH P-OCC IS REPRESENTED\n",
      "N: 20; num: 1700\n",
      "N: 100; num: 1700\n",
      "N: 500; num: 1700\n"
     ]
    }
   ],
   "source": [
    "print(\"TESTING TO SEE IF EACH P-OCC IS REPRESENTED\")\n",
    "\n",
    "for N in (20, 100, 500):\n",
    "    print(\"N: {}; num: {}\".format(N, len(df[df['N'] == N])))"
   ]
  },
  {
   "cell_type": "code",
   "execution_count": 147,
   "id": "official-objective",
   "metadata": {},
   "outputs": [],
   "source": [
    "def get_sat_vec(dfe, N):\n",
    "    p_occs = np.linspace(0.1, 0.9, 17)\n",
    "    \n",
    "    ret_val = []\n",
    "    \n",
    "    for p in p_occs:\n",
    "        ret_val.append(len(dfe[(dfe['N'] == N) & (dfe['p_occ'] == round(p,2)) & (dfe['SAT'] == 1)] ))\n",
    "        \n",
    "    return ret_val"
   ]
  },
  {
   "cell_type": "code",
   "execution_count": 148,
   "id": "first-exhibition",
   "metadata": {},
   "outputs": [],
   "source": [
    "def get_node_vec(dfe, N):\n",
    "    p_occs = np.linspace(0.1, 0.9, 17)\n",
    "    \n",
    "    ret_val = []\n",
    "    \n",
    "    for p in p_occs:\n",
    "        num = len(dfe[(dfe['N'] == N) & (dfe['p_occ'] == round(p,2))])\n",
    "        total = dfe[ (dfe['N'] == N) & (dfe['p_occ'] == round(p, 2)) ]['nodes_generated'].sum()\n",
    "        ret_val.append( total/num )\n",
    "        \n",
    "    return ret_val"
   ]
  },
  {
   "cell_type": "code",
   "execution_count": 149,
   "id": "sacred-letters",
   "metadata": {},
   "outputs": [
    {
     "data": {
      "text/plain": [
       "657"
      ]
     },
     "execution_count": 149,
     "metadata": {},
     "output_type": "execute_result"
    },
    {
     "data": {
      "image/png": "[encoded data removed]",
      "text/plain": [
       "<Figure size 432x288 with 1 Axes>"
      ]
     },
     "metadata": {
      "needs_background": "light"
     },
     "output_type": "display_data"
    }
   ],
   "source": [
    "v = get_sat_vec(df, 20)\n",
    "plt.plot(p_occs, v)\n",
    "sum(v)"
   ]
  },
  {
   "cell_type": "code",
   "execution_count": 150,
   "id": "sexual-kruger",
   "metadata": {},
   "outputs": [
    {
     "data": {
      "text/plain": [
       "3736.93"
      ]
     },
     "execution_count": 150,
     "metadata": {},
     "output_type": "execute_result"
    },
    {
     "data": {
      "image/png": "[encoded data removed]",
      "text/plain": [
       "<Figure size 432x288 with 1 Axes>"
      ]
     },
     "metadata": {
      "needs_background": "light"
     },
     "output_type": "display_data"
    }
   ],
   "source": [
    "v = get_node_vec(df, 100)\n",
    "plt.plot(v)\n",
    "sum(v)"
   ]
  },
  {
   "cell_type": "code",
   "execution_count": 151,
   "id": "automatic-central",
   "metadata": {},
   "outputs": [
    {
     "data": {
      "text/plain": [
       "621"
      ]
     },
     "execution_count": 151,
     "metadata": {},
     "output_type": "execute_result"
    },
    {
     "data": {
      "image/png": "[encoded data removed]",
      "text/plain": [
       "<Figure size 432x288 with 1 Axes>"
      ]
     },
     "metadata": {
      "needs_background": "light"
     },
     "output_type": "display_data"
    }
   ],
   "source": [
    "v = get_sat_vec(df, 500)\n",
    "plt.plot(v)\n",
    "sum(v)"
   ]
  },
  {
   "cell_type": "code",
   "execution_count": 152,
   "id": "demographic-mathematics",
   "metadata": {},
   "outputs": [],
   "source": [
    "def plot_results(N):\n",
    "    satvec = get_sat_vec(df, N)\n",
    "    nodevec = get_node_vec(df, N)\n",
    "    \n",
    "    fig, axs = plt.subplots(2, sharex=True)\n",
    "    fig.tight_layout()\n",
    "    \n",
    "    axs[0].plot(p_occs, satvec)\n",
    "    axs[0].set_title(\"Number of Satisfiable Mazes (N={})\".format(N))\n",
    "    axs[0].set_ylabel('Satisfied Mazes (/100)')\n",
    "    \n",
    "    axs[1].plot(p_occs, nodevec, 'r')\n",
    "    axs[1].set_title(\"Number of Nodes Explored (N={})\".format(N))\n",
    "    axs[1].set_ylabel('Num Nodes')\n",
    "    \n",
    "    plt.xlabel('p_occ')\n",
    "#     plt.gcf().subplots_adjust(bottom=0.15)\n",
    "#     plt.gcf().subplots_adjust(left=0.15)\n",
    "#     plt.gcf().subplots_adjust(right=1.15)\n",
    "#     plt.gcf().subplots_adjust(top=0.15)\n",
    "    plt.tight_layout()\n",
    "    plt.savefig('figures/{}.jpg'.format(N), dpi=300)\n",
    "    plt.show()"
   ]
  },
  {
   "cell_type": "code",
   "execution_count": 153,
   "id": "committed-spray",
   "metadata": {},
   "outputs": [
    {
     "data": {
      "image/png": "[encoded data removed]",
      "text/plain": [
       "<Figure size 432x288 with 2 Axes>"
      ]
     },
     "metadata": {
      "needs_background": "light"
     },
     "output_type": "display_data"
    }
   ],
   "source": [
    "plot_results(20)"
   ]
  },
  {
   "cell_type": "code",
   "execution_count": 154,
   "id": "distinct-priest",
   "metadata": {},
   "outputs": [
    {
     "data": {
      "image/png": "[encoded data removed]",
      "text/plain": [
       "<Figure size 432x288 with 2 Axes>"
      ]
     },
     "metadata": {
      "needs_background": "light"
     },
     "output_type": "display_data"
    }
   ],
   "source": [
    "plot_results(100)"
   ]
  },
  {
   "cell_type": "code",
   "execution_count": 155,
   "id": "aggressive-memorial",
   "metadata": {},
   "outputs": [
    {
     "data": {
      "image/png": "[encoded data removed]",
      "text/plain": [
       "<Figure size 432x288 with 2 Axes>"
      ]
     },
     "metadata": {
      "needs_background": "light"
     },
     "output_type": "display_data"
    }
   ],
   "source": [
    "plot_results(500)"
   ]
  },
  {
   "cell_type": "code",
   "execution_count": null,
   "id": "vertical-greene",
   "metadata": {},
   "outputs": [],
   "source": []
  },
  {
   "cell_type": "code",
   "execution_count": null,
   "id": "addressed-junction",
   "metadata": {},
   "outputs": [],
   "source": []
  },
  {
   "cell_type": "code",
   "execution_count": null,
   "id": "consolidated-disability",
   "metadata": {},
   "outputs": [],
   "source": []
  },
  {
   "cell_type": "code",
   "execution_count": null,
   "id": "historical-guess",
   "metadata": {},
   "outputs": [],
   "source": []
  },
  {
   "cell_type": "code",
   "execution_count": null,
   "id": "sticky-joining",
   "metadata": {},
   "outputs": [],
   "source": []
  }
 ],
 "metadata": {
  "kernelspec": {
   "display_name": "Python 3",
   "language": "python",
   "name": "python3"
  },
  "language_info": {
   "codemirror_mode": {
    "name": "ipython",
    "version": 3
   },
   "file_extension": ".py",
   "mimetype": "text/x-python",
   "name": "python",
   "nbconvert_exporter": "python",
   "pygments_lexer": "ipython3",
   "version": "3.8.2"
  }
 },
 "nbformat": 4,
 "nbformat_minor": 5
}
